{
 "cells": [
  {
   "cell_type": "markdown",
   "metadata": {},
   "source": [
    "# Title"
   ]
  },
  {
   "cell_type": "code",
   "execution_count": null,
   "metadata": {},
   "outputs": [],
   "source": [
    "%matplotlib inline\n",
    "# Normal imports\n",
    "import mass\n",
    "from mass.off import ChannelGroup, getOffFileListFromOneFile, Channel, labelPeak, labelPeaks\n",
    "from mass.calibration import _highly_charged_ion_lines\n",
    "import numpy as np\n",
    "import pylab as plt\n",
    "import lmfit\n",
    "\n",
    "# test only imports\n",
    "from mass.off import util\n",
    "import unittest as ut\n",
    "import pytest\n",
    "import collections\n",
    "import os"
   ]
  },
  {
   "cell_type": "code",
   "execution_count": null,
   "metadata": {},
   "outputs": [],
   "source": [
    "filename = \"../mass/off/data_for_test/20181205_BCDEFGHI/20181205_BCDEFGHI_chan1.off\"\n",
    "data = ChannelGroup(getOffFileListFromOneFile(filename, maxChans=2))\n",
    "data.experimentStateFile.aliasState(\"B\", \"Ne\")\n",
    "data.experimentStateFile.aliasState(\"C\", \"W 1\")\n",
    "data.experimentStateFile.aliasState(\"D\", \"Os\")\n",
    "data.experimentStateFile.aliasState(\"E\", \"Ar\")\n",
    "data.experimentStateFile.aliasState(\"F\", \"Re\")\n",
    "data.experimentStateFile.aliasState(\"G\", \"W 2\")\n",
    "data.experimentStateFile.aliasState(\"H\", \"CO2\")\n",
    "data.experimentStateFile.aliasState(\"I\", \"Ir\")\n",
    "# creates \"cutResidualStdDev\" and sets it to default\n",
    "data.learnResidualStdDevCut()\n",
    "data.setDefaultBinsize(0.5)\n",
    "ds = data[1]\n",
    "ds.plotHist(np.arange(0, 40000, 4), \"filtValue\", coAddStates=False)"
   ]
  },
  {
   "cell_type": "code",
   "execution_count": null,
   "metadata": {},
   "outputs": [],
   "source": [
    "  data.setDefaultBinsize(0.5)\n",
    "  ds.calibrationPlanInit(\"filtValue\")\n",
    "  ds.calibrationPlanAddPoint(2128, \"O He-Like 1s2s+1s2p\", states=\"CO2\")\n",
    "  ds.calibrationPlanAddPoint(2421, \"O H-Like 2p\", states=\"CO2\")\n",
    "  ds.calibrationPlanAddPoint(2864, \"O H-Like 3p\", states=\"CO2\")\n",
    "  ds.calibrationPlanAddPoint(3404, \"Ne He-Like 1s2s+1s2p\", states=\"Ne\")\n",
    "  ds.calibrationPlanAddPoint(3768, \"Ne H-Like 2p\", states=\"Ne\")\n",
    "  ds.calibrationPlanAddPoint(5716, \"W Ni-2\", states=[\"W 1\", \"W 2\"])\n",
    "  ds.calibrationPlanAddPoint(6413, \"W Ni-4\", states=[\"W 1\", \"W 2\"])\n",
    "  ds.calibrationPlanAddPoint(7641, \"W Ni-7\", states=[\"W 1\", \"W 2\"])\n",
    "  ds.calibrationPlanAddPoint(10256, \"W Ni-17\", states=[\"W 1\", \"W 2\"])\n",
    "  # ds.calibrationPlanAddPoint(10700, \"W Ni-20\", states=[\"W 1\", \"W 2\"])\n",
    "  ds.calibrationPlanAddPoint(11125, \"Ar He-Like 1s2s+1s2p\", states=\"Ar\")\n",
    "  ds.calibrationPlanAddPoint(11728, \"Ar H-Like 2p\", states=\"Ar\")\n",
    "  # at this point energyRough should work\n",
    "  ds.plotHist(np.arange(0, 4000, 1), \"energyRough\", coAddStates=False)"
   ]
  },
  {
   "cell_type": "code",
   "execution_count": null,
   "metadata": {},
   "outputs": [],
   "source": []
  }
 ],
 "metadata": {
  "kernelspec": {
   "display_name": "Python 3",
   "language": "python",
   "name": "python3"
  },
  "language_info": {
   "codemirror_mode": {
    "name": "ipython",
    "version": 3
   },
   "file_extension": ".py",
   "mimetype": "text/x-python",
   "name": "python",
   "nbconvert_exporter": "python",
   "pygments_lexer": "ipython3",
   "version": "3.8.2"
  }
 },
 "nbformat": 4,
 "nbformat_minor": 4
}
